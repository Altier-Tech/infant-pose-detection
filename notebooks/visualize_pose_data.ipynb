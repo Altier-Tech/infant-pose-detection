{
 "cells": [
  {
   "cell_type": "code",
   "execution_count": null,
   "metadata": {},
   "outputs": [],
   "source": [
    "import pandas as pd\n",
    "import os\n",
    "import numpy as np\n",
    "import matplotlib.pyplot as plt\n",
    "import os\n",
    "import matplotlib.animation as animation\n",
    "from IPython.display import HTML\n",
    "from matplotlib.backends.backend_agg import FigureCanvasAgg as FigureCanvas\n",
    "\n",
    "def plot_skel(df, vid, frame,ax,xvar,yvar):\n",
    "    alpha =.3\n",
    "    df = df[(df.video==vid)&(df.frame==frame)].reset_index(drop=True)\n",
    "    for i,limb in enumerate(limbSeq):\n",
    "        l1 = limb[0]-1; l2 = limb[1]-1;\n",
    "        if (len(df[df.part_idx==l1])>0) & (len(df[df.part_idx==l2])>0):\n",
    "            ax.plot([df[df.part_idx==l1][xvar].iloc[0],df[df.part_idx==l2][xvar].iloc[0]], [df[df.part_idx==l1][yvar].iloc[0],df[df.part_idx==l2][yvar].iloc[0]],linewidth=5, color=[j/255 for j in colors[i]], alpha=alpha)\n",
    "    # plot kp\n",
    "    for i in range(len(df)):\n",
    "        ax.plot(df[xvar][i],df[yvar][i], 'o',markersize = 10, color=[j/255 for j in colors[i]], alpha=alpha)\n",
    "\n",
    "def gen_one_frame(df, vid, frame,dpi):\n",
    "    fig=plt.figure(dpi=dpi)\n",
    "    canvas = FigureCanvas(fig)\n",
    "    ax = plt.gca()\n",
    "    plot_skel(df, vid, i, ax, 'x', 'y')\n",
    "    ax.set_aspect('equal', adjustable='box')\n",
    "    ax.set_xlim(-3,3)\n",
    "    ax.set_ylim(-1,2)\n",
    "    ax.invert_yaxis()\n",
    "    ax.axis('off')\n",
    "    canvas.draw()\n",
    "    width, height = fig.get_size_inches() * fig.get_dpi()\n",
    "    im = np.fromstring(canvas.tostring_rgb(), dtype='uint8')\n",
    "    im = im.reshape(int(height), int(width), 3)\n",
    "    plt.close()\n",
    "    return im\n",
    "\n",
    "colors = [[255, 0, 0], [255, 85, 0], [255, 170, 0], [255, 255, 0], [170, 255, 0], [85, 255, 0],\n",
    "          [0, 255, 0], \\\n",
    "          [0, 255, 85], [0, 255, 170], [0, 255, 255], [0, 170, 255], [0, 85, 255], [0, 0, 255],\n",
    "          [85, 0, 255], \\\n",
    "          [170, 0, 255], [255, 0, 255], [255, 0, 170], [255, 0, 85],[255, 0, 0]]\n",
    "\n",
    "limbSeq = [[2, 3], [2, 6], [3, 4], [4, 5], [6, 7], [7, 8], [2, 9], [9, 10], \\\n",
    "           [10, 11], [2, 12], [12, 13], [13, 14], [2, 1], [1, 15], [15, 17], \\\n",
    "           [1, 16], [16, 18], [3, 17], [6, 18]]\n",
    "\n",
    "data_set = 'clinical'\n",
    "\n",
    "path = '../data/pose_estimates/'+data_set+'/py'\n",
    "videopath = '../data/pose_estimates/'+data_set+'/video'"
   ]
  },
  {
   "cell_type": "code",
   "execution_count": null,
   "metadata": {
    "scrolled": true
   },
   "outputs": [],
   "source": [
    "#################################\n",
    "# Save animations for all videos\n",
    "#################################\n",
    "\n",
    "df = pd.read_pickle(os.path.join(path,'processed_pose_estimates_coords.pkl'))\n",
    "\n",
    "vids = df.video.unique()\n",
    "\n",
    "frame1 = 0\n",
    "dpi = 80 # dpi = 2000\n",
    "frame_interval = 5\n",
    "\n",
    "for vid in vids:\n",
    "    print(vid)\n",
    "    fps = df[df.video == vid].fps.iloc[0]\n",
    "    framen = df[df.video==vid].frame.max()\n",
    "    filename = os.path.join(videopath,'anim_'+vid+'_'+str(frame1)+'_'+str(framen)+'.mp4')\n",
    "    \n",
    "    if os.path.isfile(filename)==False:\n",
    "        fig = plt.figure()\n",
    "        # ims is a list of lists, each row is a list of artists \n",
    "        ims = []\n",
    "        for i in np.arange(frame1, framen,frame_interval):\n",
    "            im = plt.imshow(gen_one_frame(df, vid, i,dpi), animated=True)\n",
    "            ims.append([im])\n",
    "        ani = animation.ArtistAnimation(fig, ims, interval=int(1/fps*1000*frame_interval), blit=False,\n",
    "                                        repeat_delay=1000)\n",
    "        ani.save(filename, dpi=dpi)\n"
   ]
  },
  {
   "cell_type": "code",
   "execution_count": null,
   "metadata": {},
   "outputs": [],
   "source": []
  }
 ],
 "metadata": {
  "kernelspec": {
   "display_name": "Python 3",
   "language": "python",
   "name": "python3"
  },
  "language_info": {
   "codemirror_mode": {
    "name": "ipython",
    "version": 3
   },
   "file_extension": ".py",
   "mimetype": "text/x-python",
   "name": "python",
   "nbconvert_exporter": "python",
   "pygments_lexer": "ipython3",
   "version": "3.5.2"
  }
 },
 "nbformat": 4,
 "nbformat_minor": 2
}
