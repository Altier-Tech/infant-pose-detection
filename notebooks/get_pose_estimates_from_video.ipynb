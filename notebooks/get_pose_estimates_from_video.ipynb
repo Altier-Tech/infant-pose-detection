{
 "cells": [
  {
   "cell_type": "markdown",
   "metadata": {
    "colab_type": "text",
    "id": "1o1MCQsp31Qf"
   },
   "source": [
    "### Get pose estimates from videos"
   ]
  },
  {
   "cell_type": "markdown",
   "metadata": {
    "colab_type": "text",
    "id": "3udeH9muO1nD"
   },
   "source": [
    "- Place this notebook in Google Drive and open with colab\n",
    "- In Google drive, folders should be as follows:  \n",
    "Google Drive  \n",
    "├── colab_openpose  \n",
    "│   └── models  \n",
    "│   └──  video  \n",
    "│   └──  output_files  \n",
    "  \n",
    "- Put model file named 'model.h5' in models folder  \n",
    "- Put video files in video folder for pose extraction\n",
    "- Go to the Runtime bar and change runtime type to Python 3 and GPU. If already set, then ignore  "
   ]
  },
  {
   "cell_type": "markdown",
   "metadata": {
    "colab_type": "text",
    "id": "UrJ0ExY3dHyP"
   },
   "source": [
    "Cell 1:  \n",
    "- Install and import modules  \n",
    "- Add GPU  \n",
    "- Mount google drive  \n",
    "- Enter authorization code"
   ]
  },
  {
   "cell_type": "code",
   "execution_count": 0,
   "metadata": {
    "colab": {},
    "colab_type": "code",
    "id": "bTnZpt2Wf85O"
   },
   "outputs": [],
   "source": [
    "# memory footprint support libraries/code\n",
    "!ln -sf /opt/bin/nvidia-smi /usr/bin/nvidia-smi\n",
    "!pip install gputil\n",
    "!pip install psutil\n",
    "!pip install humanize\n",
    "import psutil\n",
    "import humanize\n",
    "import os\n",
    "import GPUtil as GPU\n",
    "\n",
    "GPUs = GPU.getGPUs()\n",
    "# XXX: only one GPU on Colab and isn’t guaranteed\n",
    "gpu = GPUs[0]\n",
    "def printm():\n",
    "  process = psutil.Process(os.getpid())\n",
    "  print(\"Gen RAM Free: \" + humanize.naturalsize( psutil.virtual_memory().available ), \" I Proc size: \" + humanize.naturalsize( process.memory_info().rss))\n",
    "  print(\"GPU RAM Free: {0:.0f}MB | Used: {1:.0f}MB | Util {2:3.0f}% | Total {3:.0f}MB\".format(gpu.memoryFree, gpu.memoryUsed, gpu.memoryUtil*100, gpu.memoryTotal))\n",
    "\n",
    "# check if memory is free\n",
    "printm()\n",
    "\n",
    "# mount google drive\n",
    "# Please follow the instructions as they appear, you will need to grant permissions by opening a link verified by Google.\n",
    "\n",
    "# Load the Drive helper and mount\n",
    "from google.colab import drive\n",
    "\n",
    "# This will prompt for authorization.\n",
    "drive.mount('/content/drive')"
   ]
  },
  {
   "cell_type": "markdown",
   "metadata": {
    "colab_type": "text",
    "id": "Wya4N4AKQrRx"
   },
   "source": [
    "Cell 2:  \n",
    "- Clone Github repo  \n",
    "- Install modules  \n",
    "- Copy model file and videos to colab\n",
    "- Run demo\n",
    "\n",
    "Pose estimate files and videos with overlaid pose are saved to output_files folder"
   ]
  },
  {
   "cell_type": "code",
   "execution_count": 0,
   "metadata": {
    "colab": {},
    "colab_type": "code",
    "id": "P76h7-flYEVn"
   },
   "outputs": [],
   "source": [
    "!git clone https://github.com/cchamber/Open-Pose-Keras.git\n",
    "!apt-get install ffmpeg --yes\n",
    "!pip install ConfigObj\n",
    "!pip install sk-video\n",
    "!pip install tqdm\n",
    "\n",
    "!mkdir /content/Open-Pose-Keras/model/keras\n",
    "!mkdir /content/Open-Pose-Keras/sample_videos\n",
    "!cp -a /content/drive/My\\ Drive/colab_openpose/models/original_cmu_model.h5 /content/Open-Pose-Keras/model/keras/model.h5\n",
    "!cp -a /content/drive/My\\ Drive/colab_openpose/videos/* /content/Open-Pose-Keras/sample_videos\n",
    "!CUDA_VISIBLE_DEVICES=0 python3 /content/Open-Pose-Keras/demo_video.py"
   ]
  },
  {
   "cell_type": "code",
   "execution_count": 0,
   "metadata": {
    "colab": {},
    "colab_type": "code",
    "id": "CPZ7gXvmWh6p"
   },
   "outputs": [],
   "source": []
  }
 ],
 "metadata": {
  "accelerator": "GPU",
  "colab": {
   "collapsed_sections": [],
   "name": "Get_pose_estimates_from_video.ipynb",
   "provenance": [],
   "version": "0.3.2"
  },
  "kernelspec": {
   "display_name": "Python 3",
   "language": "python",
   "name": "python3"
  },
  "language_info": {
   "codemirror_mode": {
    "name": "ipython",
    "version": 3
   },
   "file_extension": ".py",
   "mimetype": "text/x-python",
   "name": "python",
   "nbconvert_exporter": "python",
   "pygments_lexer": "ipython3",
   "version": "3.5.2"
  }
 },
 "nbformat": 4,
 "nbformat_minor": 1
}
